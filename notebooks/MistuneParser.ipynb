{
 "cells": [
  {
   "cell_type": "code",
   "execution_count": 9,
   "metadata": {
    "collapsed": true
   },
   "outputs": [],
   "source": [
    "import mistune\n",
    "from scilab.tools.project import *"
   ]
  },
  {
   "cell_type": "code",
   "execution_count": 38,
   "metadata": {
    "collapsed": true
   },
   "outputs": [],
   "source": [
    "class EmbeddedImageRenderer(mistune.Renderer):\n",
    "    def link(self, link, title, content):\n",
    "        \n",
    "        debug(link, title, content)\n",
    "        \n",
    "        linkresult = mistune.Renderer.link(self,link, title, content)\n",
    "        \n",
    "        print(\"linkresults:\",linkresult)\n",
    "        \n",
    "        return linkresult\n",
    "    def tag(self, html):\n",
    "        \n",
    "        print(\"tag:\",html)\n",
    "        \n",
    "        return mistune.Renderer.tag(self, html)\n",
    "    "
   ]
  },
  {
   "cell_type": "code",
   "execution_count": 39,
   "metadata": {
    "collapsed": false
   },
   "outputs": [],
   "source": [
    "renderer = EmbeddedImageRenderer()\n",
    "md = mistune.Markdown(renderer=renderer)\n",
    "    "
   ]
  },
  {
   "cell_type": "code",
   "execution_count": 40,
   "metadata": {
    "collapsed": true
   },
   "outputs": [],
   "source": [
    "testMd1 = \"\"\"\n",
    "# Hello\n",
    "\n",
    "World!\n",
    "\n",
    "[Test 1 {test=true}](graph-test1.png)\n",
    "\n",
    "<a src=\"testing.png\">Hi!</a>\n",
    "\n",
    "\"\"\"\n"
   ]
  },
  {
   "cell_type": "code",
   "execution_count": 41,
   "metadata": {
    "collapsed": false
   },
   "outputs": [
    {
     "name": "stdout",
     "output_type": "stream",
     "text": [
      "link -> `graph-test1.png`\n",
      "title -> `None`\n",
      "content -> `Test 1 {test=true}`\n",
      "linkresults: <a href=\"graph-test1.png\">Test 1 {test=true}</a>\n",
      "tag: <a src=\"testing.png\">\n",
      "tag: </a>\n"
     ]
    },
    {
     "data": {
      "text/plain": [
       "'<h1>Hello</h1>\\n<p>World!</p>\\n<p><a href=\"graph-test1.png\">Test 1 {test=true}</a></p>\\n<p><a src=\"testing.png\">Hi!</a></p>\\n'"
      ]
     },
     "execution_count": 41,
     "metadata": {},
     "output_type": "execute_result"
    }
   ],
   "source": [
    "md.render(testMd1)"
   ]
  },
  {
   "cell_type": "code",
   "execution_count": null,
   "metadata": {
    "collapsed": true
   },
   "outputs": [],
   "source": []
  },
  {
   "cell_type": "code",
   "execution_count": null,
   "metadata": {
    "collapsed": true
   },
   "outputs": [],
   "source": []
  }
 ],
 "metadata": {
  "kernelspec": {
   "display_name": "Python 3",
   "language": "python",
   "name": "python3"
  },
  "language_info": {
   "codemirror_mode": {
    "name": "ipython",
    "version": 3
   },
   "file_extension": ".py",
   "mimetype": "text/x-python",
   "name": "python",
   "nbconvert_exporter": "python",
   "pygments_lexer": "ipython3",
   "version": "3.4.3"
  }
 },
 "nbformat": 4,
 "nbformat_minor": 0
}
