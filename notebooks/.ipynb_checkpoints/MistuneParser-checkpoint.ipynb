{
 "cells": [
  {
   "cell_type": "code",
   "execution_count": 3,
   "metadata": {
    "collapsed": true
   },
   "outputs": [],
   "source": [
    "import mistune\n",
    "from scilab.tools.project import *"
   ]
  },
  {
   "cell_type": "code",
   "execution_count": 89,
   "metadata": {
    "collapsed": false
   },
   "outputs": [],
   "source": [
    "class EmbeddedImageRenderer(mistune.Renderer):\n",
    "    \n",
    "    def link(self, link, title, content):\n",
    "        \n",
    "        debug(link, title, content)\n",
    "        \n",
    "        linkresult = super().link(link, title, content)\n",
    "        \n",
    "        print(\"linkresults:\",linkresult)\n",
    "        \n",
    "        return linkresult\n",
    "    \n",
    "    def tag(self, html):\n",
    "        print(\"tag:\",locals())\n",
    "        return super().tag(html)\n",
    "\n",
    "    def image(self, src, title, alt_text):\n",
    "        \n",
    "        print(\"image\", locals())\n",
    "        result =  super().image(src, title, alt_text)\n",
    "        print(\"    image -> \", result)\n",
    "        return result\n",
    "\n",
    "    def header(self, text, level, raw=None):\n",
    "        print(\"header\", locals())\n",
    "        result = super().header(text, level, raw=None)\n",
    "        print(\"head -> \", result)\n",
    "        return result\n",
    "    \n"
   ]
  },
  {
   "cell_type": "code",
   "execution_count": 90,
   "metadata": {
    "collapsed": false
   },
   "outputs": [],
   "source": [
    "renderer = EmbeddedImageRenderer()\n",
    "md = mistune.Markdown(renderer=renderer, parse_html=True)\n",
    "    "
   ]
  },
  {
   "cell_type": "markdown",
   "metadata": {},
   "source": [
    "# **Hello**  <meta .checkbox custom=true >\n",
    "\n",
    "World!\n"
   ]
  },
  {
   "cell_type": "code",
   "execution_count": 112,
   "metadata": {
    "collapsed": true
   },
   "outputs": [],
   "source": [
    "testMd1 = \"\"\"\n",
    "\n",
    "# **Hello**  <meta .checkbox custom=true >\n",
    "\n",
    "World!\n",
    "\n",
    "\"\"\""
   ]
  },
  {
   "cell_type": "code",
   "execution_count": 113,
   "metadata": {
    "collapsed": false
   },
   "outputs": [
    {
     "name": "stdout",
     "output_type": "stream",
     "text": [
      "tag: {'html': '<meta .checkbox custom=true >', '__class__': <class '__main__.EmbeddedImageRenderer'>, 'self': <__main__.EmbeddedImageRenderer object at 0x102ba5f98>}\n",
      "header {'level': 1, '__class__': <class '__main__.EmbeddedImageRenderer'>, 'self': <__main__.EmbeddedImageRenderer object at 0x102ba5f98>, 'text': '<strong>Hello</strong>  <meta .checkbox custom=true >', 'raw': '**Hello**  <meta .checkbox custom=true >'}\n",
      "head ->  <h1><strong>Hello</strong>  <meta .checkbox custom=true ></h1>\n",
      "\n",
      "\n",
      "\n",
      "Output:\n",
      "\n",
      "\n",
      " <h1><strong>Hello</strong>  <meta .checkbox custom=true ></h1>\n",
      "<p>World!</p>\n",
      "\n"
     ]
    }
   ],
   "source": [
    "print(\"\\n\\nOutput:\\n\\n\\n\",md.render(testMd1, ))"
   ]
  },
  {
   "cell_type": "code",
   "execution_count": 139,
   "metadata": {
    "collapsed": false
   },
   "outputs": [
    {
     "name": "stdout",
     "output_type": "stream",
     "text": [
      "tag: {'html': '<meta .checkbox custom=true>', '__class__': <class '__main__.EmbeddedImageRenderer'>, 'self': <__main__.EmbeddedImageRenderer object at 0x102ba5f98>}\n",
      "header {'level': 1, '__class__': <class '__main__.EmbeddedImageRenderer'>, 'self': <__main__.EmbeddedImageRenderer object at 0x102ba5f98>, 'text': '<strong>Hello</strong>  <meta .checkbox custom=true>', 'raw': '**Hello**  <meta .checkbox custom=true>'}\n",
      "head ->  <h1><strong>Hello</strong>  <meta .checkbox custom=true></h1>\n",
      "\n",
      "image {'alt_text': 'Image name | class=left', '__class__': <class '__main__.EmbeddedImageRenderer'>, 'title': None, 'self': <__main__.EmbeddedImageRenderer object at 0x102ba5f98>, 'src': 'example.png'}\n",
      "    image ->  <img src=\"example.png\" alt=\"Image name | class=left\">\n",
      "tag: {'html': '<input type=\"text\" name=\"Guage Init\" field=\"gauge_init\">', '__class__': <class '__main__.EmbeddedImageRenderer'>, 'self': <__main__.EmbeddedImageRenderer object at 0x102ba5f98>}\n",
      "\n",
      "\n",
      "Output:\n",
      "\n",
      "\n",
      " <h1><strong>Hello</strong>  <meta .checkbox custom=true></h1>\n",
      "<p><img src=\"example.png\" alt=\"Image name | class=left\"></p>\n",
      "<ul>\n",
      "<li>[] Alpha</li>\n",
      "<li>[] Beta</li>\n",
      "</ul>\n",
      "<ol>\n",
      "<li>[] Aleph</li>\n",
      "<li>[] Bet</li>\n",
      "</ol>\n",
      "<input type=\"text\" name=\"Guage Init\" field=\"gauge_init\">\n"
     ]
    }
   ],
   "source": [
    "testMd3 = \"\"\"\n",
    "\n",
    "# **Hello**  <meta .checkbox custom=true>\n",
    "\n",
    "![Image name | class=left](example.png )\n",
    "\n",
    "+ [] Alpha\n",
    "+ [] Beta\n",
    "\n",
    "1. [] Aleph\n",
    "2. [] Bet\n",
    "\n",
    "<input type=\"text\" name=\"Guage Init\" field=\"gauge_init\">\n",
    "\n",
    "\n",
    "\"\"\"\n",
    "\n",
    "\n",
    "print(\"\\n\\nOutput:\\n\\n\\n\",md.render(testMd3, ))"
   ]
  },
  {
   "cell_type": "code",
   "execution_count": null,
   "metadata": {
    "collapsed": true
   },
   "outputs": [],
   "source": []
  },
  {
   "cell_type": "code",
   "execution_count": null,
   "metadata": {
    "collapsed": true
   },
   "outputs": [],
   "source": []
  },
  {
   "cell_type": "code",
   "execution_count": 133,
   "metadata": {
    "collapsed": true
   },
   "outputs": [],
   "source": [
    "testMd2 = \"\"\"\n",
    "# Hello       -- .checkbox custom=true\n",
    "\n",
    "World!\n",
    "\n",
    "[Test 1](graph-test1.png)\n",
    "\n",
    "<img src=\"testing.png\"><div>Hi!</div></img>\n",
    "\n",
    "**Crazy!**\n",
    "\n",
    "<div>\n",
    "\n",
    "<cite>huh</cite>\n",
    "\n",
    "**Crazy!**\n",
    "\n",
    "![Some Link](http://somewhere.com)\n",
    "\n",
    "</div>\n",
    "\n",
    "\"\"\"\n"
   ]
  },
  {
   "cell_type": "code",
   "execution_count": 131,
   "metadata": {
    "collapsed": false
   },
   "outputs": [
    {
     "name": "stdout",
     "output_type": "stream",
     "text": [
      "header {'level': 1, '__class__': <class '__main__.EmbeddedImageRenderer'>, 'self': <__main__.EmbeddedImageRenderer object at 0x102ba5f98>, 'text': 'Hello       -- .checkbox custom=true', 'raw': 'Hello       -- .checkbox custom=true'}\n",
      "head ->  <h1>Hello       -- .checkbox custom=true</h1>\n",
      "\n",
      "link -> `graph-test1.png`\n",
      "title -> `None`\n",
      "content -> `Test 1`\n",
      "linkresults: <a href=\"graph-test1.png\">Test 1</a>\n",
      "tag: {'html': '<img src=\"testing.png\">', '__class__': <class '__main__.EmbeddedImageRenderer'>, 'self': <__main__.EmbeddedImageRenderer object at 0x102ba5f98>}\n",
      "tag: {'html': '<div>', '__class__': <class '__main__.EmbeddedImageRenderer'>, 'self': <__main__.EmbeddedImageRenderer object at 0x102ba5f98>}\n",
      "tag: {'html': '</div>', '__class__': <class '__main__.EmbeddedImageRenderer'>, 'self': <__main__.EmbeddedImageRenderer object at 0x102ba5f98>}\n",
      "tag: {'html': '</img>', '__class__': <class '__main__.EmbeddedImageRenderer'>, 'self': <__main__.EmbeddedImageRenderer object at 0x102ba5f98>}\n",
      "tag: {'html': '<div>', '__class__': <class '__main__.EmbeddedImageRenderer'>, 'self': <__main__.EmbeddedImageRenderer object at 0x102ba5f98>}\n",
      "tag: {'html': '<cite>', '__class__': <class '__main__.EmbeddedImageRenderer'>, 'self': <__main__.EmbeddedImageRenderer object at 0x102ba5f98>}\n",
      "tag: {'html': '</cite>', '__class__': <class '__main__.EmbeddedImageRenderer'>, 'self': <__main__.EmbeddedImageRenderer object at 0x102ba5f98>}\n",
      "image {'alt_text': 'Some Link', '__class__': <class '__main__.EmbeddedImageRenderer'>, 'title': None, 'self': <__main__.EmbeddedImageRenderer object at 0x102ba5f98>, 'src': 'http://somewhere.com'}\n",
      "    image ->  <img src=\"http://somewhere.com\" alt=\"Some Link\">\n",
      "tag: {'html': '</div>', '__class__': <class '__main__.EmbeddedImageRenderer'>, 'self': <__main__.EmbeddedImageRenderer object at 0x102ba5f98>}\n",
      "\n",
      "\n",
      "Output:\n",
      "\n",
      "\n",
      " <h1>Hello       -- .checkbox custom=true</h1>\n",
      "<p>World!</p>\n",
      "<p><a href=\"graph-test1.png\">Test 1</a></p>\n",
      "<p><img src=\"testing.png\"><div>Hi!</div></img></p>\n",
      "<p><strong>Crazy!</strong></p>\n",
      "<div>\n",
      "\n",
      "<cite>huh</cite>\n",
      "\n",
      "<strong>Crazy!</strong>\n",
      "\n",
      "<img src=\"http://somewhere.com\" alt=\"Some Link\">\n",
      "\n",
      "</div>\n"
     ]
    }
   ],
   "source": [
    "print(\"\\n\\nOutput:\\n\\n\\n\",md.render(testMd2, ))"
   ]
  },
  {
   "cell_type": "code",
   "execution_count": null,
   "metadata": {
    "collapsed": true
   },
   "outputs": [],
   "source": []
  },
  {
   "cell_type": "code",
   "execution_count": null,
   "metadata": {
    "collapsed": true
   },
   "outputs": [],
   "source": []
  }
 ],
 "metadata": {
  "kernelspec": {
   "display_name": "Python 3",
   "language": "python",
   "name": "python3"
  },
  "language_info": {
   "codemirror_mode": {
    "name": "ipython",
    "version": 3
   },
   "file_extension": ".py",
   "mimetype": "text/x-python",
   "name": "python",
   "nbconvert_exporter": "python",
   "pygments_lexer": "ipython3",
   "version": "3.4.3"
  }
 },
 "nbformat": 4,
 "nbformat_minor": 0
}
