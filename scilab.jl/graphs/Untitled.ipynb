{
 "cells": [
  {
   "cell_type": "code",
   "execution_count": null,
   "metadata": {
    "collapsed": true
   },
   "outputs": [],
   "source": [
    "using PyCall\n",
    "using PyPlot\n",
    "@pyimport matplotlib.animation as anim\n",
    "\n",
    "# First set up the figure, the axis, and the plot element we want to animate\n",
    "fig = figure()\n",
    "ax = plt.axes(xlim=(0, 2), ylim=(-2, 2))\n",
    "global line = ax[:plot]([], [], lw=2)[1]\n",
    "\n",
    "# initialization function: plot the background of each frame\n",
    "function init()\n",
    "    global line\n",
    "    line[:set_data]([], [])\n",
    "    return (line,None)\n",
    "end\n",
    "\n",
    "# animation function.  This is called sequentially\n",
    "function animate(i)\n",
    "    x = linspace(0, 2, 1000)\n",
    "    y = sin(2 * pi * (x - 0.01 * i))\n",
    "    global line\n",
    "    line[:set_data](x, y)\n",
    "    return (line,None)\n",
    "end\n",
    "\n",
    "# call the animator.  blit=True means only re-draw the parts that have changed.\n",
    "myanim = anim.FuncAnimation(fig, animate, init_func=init,\n",
    "                               frames=100, interval=20)\n",
    "\n",
    "myanim[:save](\"plots-julia/PyPlots-sinplot.mp4\", extra_args=[\"-vcodec\", \"libx264\", \"-pix_fmt\", \"yuv420p\"])"
   ]
  },
  {
   "cell_type": "code",
   "execution_count": null,
   "metadata": {
    "collapsed": true
   },
   "outputs": [],
   "source": []
  }
 ],
 "metadata": {
  "kernelspec": {
   "display_name": "Julia 0.3.5",
   "language": "julia",
   "name": "julia 0.3"
  }
 },
 "nbformat": 4,
 "nbformat_minor": 0
}
