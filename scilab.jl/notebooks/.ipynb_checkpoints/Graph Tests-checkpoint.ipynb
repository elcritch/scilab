{
 "cells": [
  {
   "cell_type": "code",
   "execution_count": 1,
   "metadata": {
    "collapsed": true
   },
   "outputs": [],
   "source": [
    "using Gadfly\n"
   ]
  },
  {
   "cell_type": "code",
   "execution_count": 2,
   "metadata": {
    "collapsed": true
   },
   "outputs": [],
   "source": [
    "using MAT "
   ]
  },
  {
   "cell_type": "code",
   "execution_count": 3,
   "metadata": {
    "collapsed": false
   },
   "outputs": [
    {
     "data": {
      "text/plain": [
       "\"/Users/elcritch/proj/expers/fatigue-failure|uts|expr1/\""
      ]
     },
     "execution_count": 3,
     "metadata": {},
     "output_type": "execute_result"
    }
   ],
   "source": [
    "projdir = expanduser(\"~/proj/expers/fatigue-failure|uts|expr1/\")"
   ]
  },
  {
   "cell_type": "code",
   "execution_count": 4,
   "metadata": {
    "collapsed": false
   },
   "outputs": [
    {
     "data": {
      "text/plain": [
       "\"/Users/elcritch/proj/expers/fatigue-failure|uts|expr1\""
      ]
     },
     "execution_count": 4,
     "metadata": {},
     "output_type": "execute_result"
    }
   ],
   "source": [
    "realpath(projdir)"
   ]
  },
  {
   "cell_type": "code",
   "execution_count": 5,
   "metadata": {
    "collapsed": false
   },
   "outputs": [
    {
     "data": {
      "text/plain": [
       "\"02_Tests/dec01(gf10.1-llm)-wa-lg-l6-x1/\""
      ]
     },
     "execution_count": 5,
     "metadata": {},
     "output_type": "execute_result"
    }
   ],
   "source": [
    "testdir = \"02_Tests/dec01\\(gf10.1-llm\\)-wa-lg-l6-x1/\""
   ]
  },
  {
   "cell_type": "code",
   "execution_count": 6,
   "metadata": {
    "collapsed": false
   },
   "outputs": [
    {
     "data": {
      "text/plain": [
       "topath (generic function with 1 method)"
      ]
     },
     "execution_count": 6,
     "metadata": {},
     "output_type": "execute_result"
    }
   ],
   "source": [
    "/(p1::String,p2::String) = return p1 * \"/\" * p2\n",
    "topath(p::String) = realpath(projdir / p)\n",
    "    "
   ]
  },
  {
   "cell_type": "code",
   "execution_count": 7,
   "metadata": {
    "collapsed": false
   },
   "outputs": [
    {
     "data": {
      "text/plain": [
       "\"/Users/elcritch/proj/expers/fatigue-failure|uts|expr1/02_Tests/dec01(gf10.1-llm)-wa-lg-l6-x1\""
      ]
     },
     "execution_count": 7,
     "metadata": {},
     "output_type": "execute_result"
    }
   ],
   "source": [
    "testdir |> topath"
   ]
  },
  {
   "cell_type": "code",
   "execution_count": 8,
   "metadata": {
    "collapsed": false
   },
   "outputs": [
    {
     "data": {
      "text/plain": [
       "\"02_Tests/dec01(gf10.1-llm)-wa-lg-l6-x1//data/data (test=1001-1LG-601 | stage=norm | item=tracking | method=preload | v0).mat\""
      ]
     },
     "execution_count": 8,
     "metadata": {},
     "output_type": "execute_result"
    }
   ],
   "source": [
    "mfl1 = testdir/\"data/data (test=1001-1LG-601 | stage=norm | item=tracking | method=preload | v0).mat\" "
   ]
  },
  {
   "cell_type": "code",
   "execution_count": 9,
   "metadata": {
    "collapsed": false
   },
   "outputs": [
    {
     "data": {
      "text/plain": [
       "Dict{ASCIIString,Any} with 4 entries:\n",
       "  \"summary\"    => [\"step\"=>[\"mins\"=>[\"idx\"=>0,\"value\"=>2.0],\"maxs\"=>[\"idx\"=>268…\n",
       "  \"indexes\"    => [\"step\"=>[\"idx_6\"=>[454 22529 1],\"idx_4\"=>[216 259 1],\"idx_13…\n",
       "  \"data\"       => [\"step\"=>[2.0 2.0 2.0 2.0 2.0 2.0 2.0 2.0 2.0 2.0 2.0 2.0 2.0…\n",
       "  \"columninfo\" => [\"step\"=>[\"label\"=>\"WaveMatrix Step\",\"name\"=>\"step\",\"units\"=>…"
      ]
     },
     "execution_count": 9,
     "metadata": {},
     "output_type": "execute_result"
    }
   ],
   "source": [
    "matdata = mfl1 |> topath |> matread"
   ]
  },
  {
   "cell_type": "code",
   "execution_count": 10,
   "metadata": {
    "collapsed": false
   },
   "outputs": [
    {
     "data": {
      "text/plain": [
       "Dict{ASCIIString,Any} with 9 entries:\n",
       "  \"step\"             => [2.0 2.0 2.0 2.0 2.0 2.0 2.0 2.0 2.0 2.0 2.0 2.0 2.0 2.…\n",
       "  \"totalTime\"        => [0.389 0.399 0.409 0.42 0.43 0.44 0.45 0.451 0.46 0.47 …\n",
       "  \"totalCycleCount\"  => [1.0 1.0 1.0 1.0 1.0 1.0 1.0 1.0 1.0 1.0 1.0 1.0 1.0 1.…\n",
       "  \"load\"             => [0.0421162694692612 0.128204002976418 0.023445114493370…\n",
       "  \"cycleElapsedTime\" => [0.0 0.01 0.02 0.031 0.041 0.051 0.061 0.062 0.071 0.08…\n",
       "  \"strain\"           => [0.01564385208808396 0.01564419733019242 0.015644680669…\n",
       "  \"stress\"           => [0.05159109234883716 0.15704583146601758 0.028719520560…\n",
       "  \"elapsedCycles\"    => [1.0 1.0 1.0 1.0 1.0 1.0 1.0 1.0 1.0 1.0 1.0 1.0 1.0 1.…\n",
       "  \"disp\"             => [0.227883993367119 0.227889022508913 0.227896063307424 …"
      ]
     },
     "execution_count": 10,
     "metadata": {},
     "output_type": "execute_result"
    }
   ],
   "source": [
    "data = matdata[\"data\"]\n",
    "data"
   ]
  },
  {
   "cell_type": "code",
   "execution_count": 11,
   "metadata": {
    "collapsed": false
   },
   "outputs": [
    {
     "data": {
      "text/plain": [
       "26927-element Array{Float64,1}:\n",
       "  0.399\n",
       "  0.409\n",
       "  0.42 \n",
       "  0.43 \n",
       "  0.44 \n",
       "  0.45 \n",
       "  0.451\n",
       "  0.46 \n",
       "  0.47 \n",
       "  0.472\n",
       "  0.473\n",
       "  0.475\n",
       "  0.476\n",
       "  ⋮    \n",
       " 54.65 \n",
       " 54.66 \n",
       " 54.668\n",
       " 54.671\n",
       " 54.681\n",
       " 54.692\n",
       " 54.703\n",
       " 54.714\n",
       " 54.724\n",
       " 54.735\n",
       " 54.745\n",
       " 54.748"
      ]
     },
     "execution_count": 11,
     "metadata": {},
     "output_type": "execute_result"
    }
   ],
   "source": [
    "data[\"totalTime\"][:2:end]"
   ]
  },
  {
   "cell_type": "code",
   "execution_count": null,
   "metadata": {
    "collapsed": false
   },
   "outputs": [],
   "source": []
  },
  {
   "cell_type": "code",
   "execution_count": 13,
   "metadata": {
    "collapsed": false
   },
   "outputs": [],
   "source": [
    "\n",
    "# p = plot(\n",
    "#     layer(x=data[\"totalTime\"][:10:end], y=data[\"strain\"][:10:end], Geom.line),\n",
    "#     layer(x=data[\"totalTime\"][:10:end], y=data[\"stress\"][:10:end], Geom.line),\n",
    "#     Theme(panel_fill=color(\"white\"))\n",
    "# )\n"
   ]
  },
  {
   "cell_type": "code",
   "execution_count": 14,
   "metadata": {
    "collapsed": false
   },
   "outputs": [],
   "source": [
    "# p = plot(\n",
    "#     layer(x=data[\"totalTime\"], y=data[\"strain\"], Geom.point),\n",
    "#     layer(x=data[\"totalTime\"], y=data[\"stress\"], Geom.point),\n",
    "#     Theme(panel_fill=color(\"white\"))\n",
    "# )\n"
   ]
  },
  {
   "cell_type": "code",
   "execution_count": 1,
   "metadata": {
    "collapsed": false
   },
   "outputs": [
    {
     "ename": "LoadError",
     "evalue": "@bar not defined\nwhile loading In[1], in expression starting on line 1",
     "output_type": "error",
     "traceback": [
      "@bar not defined\nwhile loading In[1], in expression starting on line 1",
      ""
     ]
    }
   ],
   "source": [
    "foo@bar"
   ]
  },
  {
   "cell_type": "code",
   "execution_count": 2,
   "metadata": {
    "collapsed": false
   },
   "outputs": [
    {
     "ename": "LoadError",
     "evalue": "foo!bar not defined\nwhile loading In[2], in expression starting on line 1",
     "output_type": "error",
     "traceback": [
      "foo!bar not defined\nwhile loading In[2], in expression starting on line 1",
      ""
     ]
    }
   ],
   "source": [
    "foo!bar"
   ]
  },
  {
   "cell_type": "code",
   "execution_count": 3,
   "metadata": {
    "collapsed": false
   },
   "outputs": [
    {
     "ename": "LoadError",
     "evalue": "foo not defined\nwhile loading In[3], in expression starting on line 1",
     "output_type": "error",
     "traceback": [
      "foo not defined\nwhile loading In[3], in expression starting on line 1",
      ""
     ]
    }
   ],
   "source": [
    "foo|bar"
   ]
  },
  {
   "cell_type": "code",
   "execution_count": 4,
   "metadata": {
    "collapsed": false
   },
   "outputs": [
    {
     "ename": "LoadError",
     "evalue": "`|` has no method matching |(::ASCIIString, ::ASCIIString)\nwhile loading In[4], in expression starting on line 1",
     "output_type": "error",
     "traceback": [
      "`|` has no method matching |(::ASCIIString, ::ASCIIString)\nwhile loading In[4], in expression starting on line 1",
      ""
     ]
    }
   ],
   "source": [
    "\"foo\"|\"bar\""
   ]
  },
  {
   "cell_type": "code",
   "execution_count": 9,
   "metadata": {
    "collapsed": false
   },
   "outputs": [
    {
     "ename": "LoadError",
     "evalue": "syntax: \":>\" found instead of \">:\"\nwhile loading In[9], in expression starting on line 1",
     "output_type": "error",
     "traceback": [
      "syntax: \":>\" found instead of \">:\"\nwhile loading In[9], in expression starting on line 1",
      ""
     ]
    }
   ],
   "source": [
    "foo:>bar = 3 "
   ]
  },
  {
   "cell_type": "code",
   "execution_count": 10,
   "metadata": {
    "collapsed": false
   },
   "outputs": [
    {
     "ename": "LoadError",
     "evalue": "syntax: \":>\" found instead of \">:\"\nwhile loading In[10], in expression starting on line 1",
     "output_type": "error",
     "traceback": [
      "syntax: \":>\" found instead of \">:\"\nwhile loading In[10], in expression starting on line 1",
      ""
     ]
    }
   ],
   "source": [
    "dataframe:>a "
   ]
  },
  {
   "cell_type": "code",
   "execution_count": 11,
   "metadata": {
    "collapsed": false
   },
   "outputs": [
    {
     "ename": "LoadError",
     "evalue": "syntax: \":>\" found instead of \">:\"\nwhile loading In[11], in expression starting on line 1",
     "output_type": "error",
     "traceback": [
      "syntax: \":>\" found instead of \">:\"\nwhile loading In[11], in expression starting on line 1",
      ""
     ]
    }
   ],
   "source": [
    "df1.`a = 4"
   ]
  },
  {
   "cell_type": "code",
   "execution_count": 12,
   "metadata": {
    "collapsed": false
   },
   "outputs": [
    {
     "ename": "LoadError",
     "evalue": "syntax: invalid method name \":(>)\"\nwhile loading In[12], in expression starting on line 3",
     "output_type": "error",
     "traceback": [
      "syntax: invalid method name \":(>)\"\nwhile loading In[12], in expression starting on line 3",
      ""
     ]
    }
   ],
   "source": [
    "\n",
    "function :>(a,b)\n",
    "    return getfeild(a,b)\n",
    "end"
   ]
  },
  {
   "cell_type": "code",
   "execution_count": 13,
   "metadata": {
    "collapsed": false
   },
   "outputs": [
    {
     "data": {
      "text/plain": [
       ":+"
      ]
     },
     "execution_count": 13,
     "metadata": {},
     "output_type": "execute_result"
    }
   ],
   "source": [
    ":+"
   ]
  },
  {
   "cell_type": "code",
   "execution_count": 14,
   "metadata": {
    "collapsed": false
   },
   "outputs": [
    {
     "data": {
      "text/plain": [
       "issubtype"
      ]
     },
     "execution_count": 14,
     "metadata": {},
     "output_type": "execute_result"
    }
   ],
   "source": [
    "<:"
   ]
  },
  {
   "cell_type": "code",
   "execution_count": 18,
   "metadata": {
    "collapsed": false
   },
   "outputs": [
    {
     "data": {
      "text/plain": [
       "\"123\""
      ]
     },
     "execution_count": 18,
     "metadata": {},
     "output_type": "execute_result"
    }
   ],
   "source": [
    "s1 = \"abc\"\n",
    "s2 = \"123\""
   ]
  },
  {
   "cell_type": "code",
   "execution_count": 21,
   "metadata": {
    "collapsed": false
   },
   "outputs": [
    {
     "ename": "LoadError",
     "evalue": "invalid method definition: not a generic function\nwhile loading In[21], in expression starting on line 1",
     "output_type": "error",
     "traceback": [
      "invalid method definition: not a generic function\nwhile loading In[21], in expression starting on line 1",
      ""
     ]
    }
   ],
   "source": [
    "function <:(a,b)\n",
    "    return get(a,b)\n",
    "end"
   ]
  },
  {
   "cell_type": "code",
   "execution_count": 22,
   "metadata": {
    "collapsed": false
   },
   "outputs": [
    {
     "ename": "LoadError",
     "evalue": "unsupported or misplaced expression =>\nwhile loading In[22], in expression starting on line 1",
     "output_type": "error",
     "traceback": [
      "unsupported or misplaced expression =>\nwhile loading In[22], in expression starting on line 1",
      ""
     ]
    }
   ],
   "source": [
    "s1 => s2"
   ]
  },
  {
   "cell_type": "code",
   "execution_count": 25,
   "metadata": {
    "collapsed": false
   },
   "outputs": [
    {
     "ename": "LoadError",
     "evalue": "unsupported or misplaced expression =>\nwhile loading In[25], in expression starting on line 1",
     "output_type": "error",
     "traceback": [
      "unsupported or misplaced expression =>\nwhile loading In[25], in expression starting on line 1",
      ""
     ]
    }
   ],
   "source": [
    "s1 <: s2 "
   ]
  },
  {
   "cell_type": "code",
   "execution_count": 29,
   "metadata": {
    "collapsed": false
   },
   "outputs": [
    {
     "data": {
      "text/plain": [
       "\\ (generic function with 32 methods)"
      ]
     },
     "execution_count": 29,
     "metadata": {},
     "output_type": "execute_result"
    }
   ],
   "source": [
    "df1\\a = b "
   ]
  },
  {
   "cell_type": "code",
   "execution_count": 32,
   "metadata": {
    "collapsed": false
   },
   "outputs": [
    {
     "data": {
      "text/html": [
       "32 methods for generic function <b>\\</b>:<ul><li> \\(a::<b>Float16</b>,b::<b>Float16</b>) at <a href=\"https://github.com/JuliaLang/julia/tree/a05f87b79ad62beb033817fdfdefa270c9557aaf/base/float16.jl#L132\" target=\"_blank\">float16.jl:132</a><li> \\(x::<b>Number</b>,y::<b>Number</b>) at <a href=\"https://github.com/JuliaLang/julia/tree/a05f87b79ad62beb033817fdfdefa270c9557aaf/base/operators.jl#L90\" target=\"_blank\">operators.jl:90</a><li> \\<i>{T,S,UpLo,IsUnit}</i>(x::<b>Number</b>,A::<b>Triangular{T,S,UpLo,IsUnit}</b>) at <a href=\"https://github.com/JuliaLang/julia/tree/a05f87b79ad62beb033817fdfdefa270c9557aaf/base/linalg/triangular.jl#L188\" target=\"_blank\">linalg/triangular.jl:188</a><li> \\(A::<b>Number</b>,B::<b>AbstractArray{T,N}</b>) at <a href=\"https://github.com/JuliaLang/julia/tree/a05f87b79ad62beb033817fdfdefa270c9557aaf/base/abstractarray.jl#L372\" target=\"_blank\">abstractarray.jl:372</a><li> \\(A::<b>BitArray{N}</b>,B::<b>BitArray{N}</b>) at <a href=\"https://github.com/JuliaLang/julia/tree/a05f87b79ad62beb033817fdfdefa270c9557aaf/base/bitarray.jl#L881\" target=\"_blank\">bitarray.jl:881</a><li> \\(a::<b>Array{T,1}</b>,B::<b>Union(SubArray{T,1,A<:DenseArray{T,N},I<:(Union(Range{Int64},Int64)...,)},SubArray{T,2,A<:DenseArray{T,N},I<:(Union(Range{Int64},Int64)...,)},DenseArray{T,1},DenseArray{T,2})</b>) at <a href=\"https://github.com/JuliaLang/julia/tree/a05f87b79ad62beb033817fdfdefa270c9557aaf/base/linalg/dense.jl#L407\" target=\"_blank\">linalg/dense.jl:407</a><li> \\(A::<b>Union(SubArray{T,2,A<:DenseArray{T,N},I<:(Union(Range{Int64},Int64)...,)},DenseArray{T,2})</b>,B::<b>Union(SubArray{T,1,A<:DenseArray{T,N},I<:(Union(Range{Int64},Int64)...,)},SubArray{T,2,A<:DenseArray{T,N},I<:(Union(Range{Int64},Int64)...,)},DenseArray{T,1},DenseArray{T,2})</b>) at <a href=\"https://github.com/JuliaLang/julia/tree/a05f87b79ad62beb033817fdfdefa270c9557aaf/base/linalg/dense.jl#L409\" target=\"_blank\">linalg/dense.jl:409</a><li> \\<i>{T<:Union(Complex{Float32},Float64,Complex{Float64},Float32),S<:AbstractArray{T,2},UpLo,IsUnit}</i>(A::<b>Triangular{T<:Union(Complex{Float32},Float64,Complex{Float64},Float32),S<:AbstractArray{T,2},UpLo,IsUnit}</b>,B::<b>Union(DenseArray{T<:Union(Complex{Float32},Float64,Complex{Float64},Float32),1},DenseArray{T<:Union(Complex{Float32},Float64,Complex{Float64},Float32),2},SubArray{T<:Union(Complex{Float32},Float64,Complex{Float64},Float32),2,A<:DenseArray{T,N},I<:(Union(Range{Int64},Int64)...,)},SubArray{T<:Union(Complex{Float32},Float64,Complex{Float64},Float32),1,A<:DenseArray{T,N},I<:(Union(Range{Int64},Int64)...,)})</b>) at <a href=\"https://github.com/JuliaLang/julia/tree/a05f87b79ad62beb033817fdfdefa270c9557aaf/base/linalg/triangular.jl#L49\" target=\"_blank\">linalg/triangular.jl:49</a><li> \\(A::<b>Union(Hermitian{T},Symmetric{T})</b>,B::<b>Union(SubArray{T,1,A<:DenseArray{T,N},I<:(Union(Range{Int64},Int64)...,)},SubArray{T,2,A<:DenseArray{T,N},I<:(Union(Range{Int64},Int64)...,)},DenseArray{T,1},DenseArray{T,2})</b>) at <a href=\"https://github.com/JuliaLang/julia/tree/a05f87b79ad62beb033817fdfdefa270c9557aaf/base/linalg/symmetric.jl#L40\" target=\"_blank\">linalg/symmetric.jl:40</a><li> \\(W::<b>Woodbury{T}</b>,R::<b>Union(SubArray{T,1,A<:DenseArray{T,N},I<:(Union(Range{Int64},Int64)...,)},SubArray{T,2,A<:DenseArray{T,N},I<:(Union(Range{Int64},Int64)...,)},DenseArray{T,1},DenseArray{T,2})</b>) at <a href=\"https://github.com/JuliaLang/julia/tree/a05f87b79ad62beb033817fdfdefa270c9557aaf/base/linalg/woodbury.jl#L73\" target=\"_blank\">linalg/woodbury.jl:73</a><li> \\<i>{TD<:Number,TA<:Number}</i>(D::<b>Diagonal{TD<:Number}</b>,A::<b>AbstractArray{TA<:Number,1}</b>) at <a href=\"https://github.com/JuliaLang/julia/tree/a05f87b79ad62beb033817fdfdefa270c9557aaf/base/linalg/diagonal.jl#L101\" target=\"_blank\">linalg/diagonal.jl:101</a><li> \\(Da::<b>Diagonal{T}</b>,Db::<b>Diagonal{T}</b>) at <a href=\"https://github.com/JuliaLang/julia/tree/a05f87b79ad62beb033817fdfdefa270c9557aaf/base/linalg/diagonal.jl#L114\" target=\"_blank\">linalg/diagonal.jl:114</a><li> \\<i>{TA<:Number,Tb<:Number}</i>(A::<b>Union(Bidiagonal{TA<:Number},Triangular{TA<:Number,S<:AbstractArray{T,2},UpLo,IsUnit})</b>,b::<b>AbstractArray{Tb<:Number,1}</b>) at <a href=\"https://github.com/JuliaLang/julia/tree/a05f87b79ad62beb033817fdfdefa270c9557aaf/base/linalg/bidiag.jl#L127\" target=\"_blank\">linalg/bidiag.jl:127</a><li> \\<i>{TA<:Number,TB<:Number}</i>(A::<b>Union(Bidiagonal{TA<:Number},Triangular{TA<:Number,S<:AbstractArray{T,2},UpLo,IsUnit})</b>,B::<b>AbstractArray{TB<:Number,2}</b>) at <a href=\"https://github.com/JuliaLang/julia/tree/a05f87b79ad62beb033817fdfdefa270c9557aaf/base/linalg/bidiag.jl#L131\" target=\"_blank\">linalg/bidiag.jl:131</a><li> \\<i>{TA,TB}</i>(A::<b>AbstractArray{TA,2}</b>,B::<b>Union(AbstractArray{TB,2},AbstractArray{TB,1})</b>) at <a href=\"https://github.com/JuliaLang/julia/tree/a05f87b79ad62beb033817fdfdefa270c9557aaf/base/linalg/generic.jl#L231\" target=\"_blank\">linalg/generic.jl:231</a><li> \\(a::<b>AbstractArray{T,1}</b>,b::<b>AbstractArray{T,N}</b>) at <a href=\"https://github.com/JuliaLang/julia/tree/a05f87b79ad62beb033817fdfdefa270c9557aaf/base/linalg/generic.jl#L235\" target=\"_blank\">linalg/generic.jl:235</a><li> \\<i>{TA,Tb}</i>(A::<b>Union(QR{TA},QRCompactWY{TA},QRPivoted{TA})</b>,b::<b>Union(DenseArray{Tb,1},SubArray{Tb,1,A<:DenseArray{T,N},I<:(Union(Range{Int64},Int64)...,)})</b>) at <a href=\"https://github.com/JuliaLang/julia/tree/a05f87b79ad62beb033817fdfdefa270c9557aaf/base/linalg/factorization.jl#L472\" target=\"_blank\">linalg/factorization.jl:472</a><li> \\<i>{TA,TB}</i>(A::<b>Union(QR{TA},QRCompactWY{TA},QRPivoted{TA})</b>,B::<b>Union(SubArray{TB,2,A<:DenseArray{T,N},I<:(Union(Range{Int64},Int64)...,)},DenseArray{TB,2})</b>) at <a href=\"https://github.com/JuliaLang/julia/tree/a05f87b79ad62beb033817fdfdefa270c9557aaf/base/linalg/factorization.jl#L478\" target=\"_blank\">linalg/factorization.jl:478</a><li> \\<i>{T<:Union(Complex{Float32},Float64,Complex{Float64},Float32)}</i>(A::<b>SVD{T<:Union(Complex{Float32},Float64,Complex{Float64},Float32),Tr}</b>,B::<b>Union(DenseArray{T<:Union(Complex{Float32},Float64,Complex{Float64},Float32),1},DenseArray{T<:Union(Complex{Float32},Float64,Complex{Float64},Float32),2},SubArray{T<:Union(Complex{Float32},Float64,Complex{Float64},Float32),2,A<:DenseArray{T,N},I<:(Union(Range{Int64},Int64)...,)},SubArray{T<:Union(Complex{Float32},Float64,Complex{Float64},Float32),1,A<:DenseArray{T,N},I<:(Union(Range{Int64},Int64)...,)})</b>) at <a href=\"https://github.com/JuliaLang/julia/tree/a05f87b79ad62beb033817fdfdefa270c9557aaf/base/linalg/factorization.jl#L689\" target=\"_blank\">linalg/factorization.jl:689</a><li> \\(A::<b>CholeskyDenseRFP{T<:Union(Complex{Float32},Float64,Complex{Float64},Float32)}</b>,B::<b>Union(Array{T,1},Array{T,2})</b>) at <a href=\"https://github.com/JuliaLang/julia/tree/a05f87b79ad62beb033817fdfdefa270c9557aaf/base/linalg/rectfullpacked.jl#L36\" target=\"_blank\">linalg/rectfullpacked.jl:36</a><li> \\<i>{TF<:Number,TB<:Number,N}</i>(F::<b>Factorization{TF<:Number}</b>,B::<b>AbstractArray{TB<:Number,N}</b>) at <a href=\"https://github.com/JuliaLang/julia/tree/a05f87b79ad62beb033817fdfdefa270c9557aaf/base/linalg/factorization.jl#L814\" target=\"_blank\">linalg/factorization.jl:814</a><li> \\(J1::<b>UniformScaling{T<:Number}</b>,J2::<b>UniformScaling{T<:Number}</b>) at <a href=\"https://github.com/JuliaLang/julia/tree/a05f87b79ad62beb033817fdfdefa270c9557aaf/base/linalg/uniformscaling.jl#L84\" target=\"_blank\">linalg/uniformscaling.jl:84</a><li> \\<i>{T<:Number}</i>(A::<b>Union(Bidiagonal{T<:Number},Triangular{T<:Number,S<:AbstractArray{T,2},UpLo,IsUnit})</b>,J::<b>UniformScaling{T<:Number}</b>) at <a href=\"https://github.com/JuliaLang/julia/tree/a05f87b79ad62beb033817fdfdefa270c9557aaf/base/linalg/uniformscaling.jl#L85\" target=\"_blank\">linalg/uniformscaling.jl:85</a><li> \\(J::<b>UniformScaling{T<:Number}</b>,A::<b>Union(AbstractArray{T,1},AbstractArray{T,2})</b>) at <a href=\"https://github.com/JuliaLang/julia/tree/a05f87b79ad62beb033817fdfdefa270c9557aaf/base/linalg/uniformscaling.jl#L86\" target=\"_blank\">linalg/uniformscaling.jl:86</a><li> \\(A::<b>AbstractArray{T,2}</b>,J::<b>UniformScaling{T<:Number}</b>) at <a href=\"https://github.com/JuliaLang/julia/tree/a05f87b79ad62beb033817fdfdefa270c9557aaf/base/linalg/uniformscaling.jl#L87\" target=\"_blank\">linalg/uniformscaling.jl:87</a><li> \\(x::<b>Number</b>,J::<b>UniformScaling{T<:Number}</b>) at <a href=\"https://github.com/JuliaLang/julia/tree/a05f87b79ad62beb033817fdfdefa270c9557aaf/base/linalg/uniformscaling.jl#L89\" target=\"_blank\">linalg/uniformscaling.jl:89</a><li> \\<i>{T<:Union(Float64,Complex{Float64})}</i>(L::<b>CholmodFactor{T<:Union(Float64,Complex{Float64}),Ti<:Union(Int64,Int32)}</b>,B::<b>CholmodDense{T<:Union(Float64,Complex{Float64})}</b>) at <a href=\"https://github.com/JuliaLang/julia/tree/a05f87b79ad62beb033817fdfdefa270c9557aaf/base/linalg/cholmod.jl#L882\" target=\"_blank\">linalg/cholmod.jl:882</a><li> \\<i>{T<:Union(Float64,Complex{Float64})}</i>(L::<b>CholmodFactor{T<:Union(Float64,Complex{Float64}),Ti<:Union(Int64,Int32)}</b>,b::<b>Array{T<:Union(Float64,Complex{Float64}),1}</b>) at <a href=\"https://github.com/JuliaLang/julia/tree/a05f87b79ad62beb033817fdfdefa270c9557aaf/base/linalg/cholmod.jl#L883\" target=\"_blank\">linalg/cholmod.jl:883</a><li> \\<i>{T<:Union(Float64,Complex{Float64})}</i>(L::<b>CholmodFactor{T<:Union(Float64,Complex{Float64}),Ti<:Union(Int64,Int32)}</b>,B::<b>Array{T<:Union(Float64,Complex{Float64}),2}</b>) at <a href=\"https://github.com/JuliaLang/julia/tree/a05f87b79ad62beb033817fdfdefa270c9557aaf/base/linalg/cholmod.jl#L884\" target=\"_blank\">linalg/cholmod.jl:884</a><li> \\<i>{Tv<:Union(Float64,Complex{Float64}),Ti<:Union(Int64,Int32)}</i>(L::<b>CholmodFactor{Tv<:Union(Float64,Complex{Float64}),Ti<:Union(Int64,Int32)}</b>,B::<b>CholmodSparse{Tv<:Union(Float64,Complex{Float64}),Ti<:Union(Int64,Int32)}</b>) at <a href=\"https://github.com/JuliaLang/julia/tree/a05f87b79ad62beb033817fdfdefa270c9557aaf/base/linalg/cholmod.jl#L966\" target=\"_blank\">linalg/cholmod.jl:966</a><li> \\<i>{Tv<:Union(Float64,Complex{Float64}),Ti<:Union(Int64,Int32)}</i>(L::<b>CholmodFactor{Tv<:Union(Float64,Complex{Float64}),Ti<:Union(Int64,Int32)}</b>,B::<b>SparseMatrixCSC{Tv<:Union(Float64,Complex{Float64}),Ti<:Union(Int64,Int32)}</b>) at <a href=\"https://github.com/JuliaLang/julia/tree/a05f87b79ad62beb033817fdfdefa270c9557aaf/base/linalg/cholmod.jl#L889\" target=\"_blank\">linalg/cholmod.jl:889</a><li> \\(df1,a) at In[29]:1</ul>"
      ],
      "text/plain": [
       "# 32 methods for generic function \"\\\":\n",
       "\\(a::Float16,b::Float16) at float16.jl:132\n",
       "\\(x::Number,y::Number) at operators.jl:90\n",
       "\\{T,S,UpLo,IsUnit}(x::Number,A::Triangular{T,S,UpLo,IsUnit}) at linalg/triangular.jl:188\n",
       "\\(A::Number,B::AbstractArray{T,N}) at abstractarray.jl:372\n",
       "\\(A::BitArray{N},B::BitArray{N}) at bitarray.jl:881\n",
       "\\(a::Array{T,1},B::Union(SubArray{T,1,A<:DenseArray{T,N},I<:(Union(Range{Int64},Int64)...,)},SubArray{T,2,A<:DenseArray{T,N},I<:(Union(Range{Int64},Int64)...,)},DenseArray{T,1},DenseArray{T,2})) at linalg/dense.jl:407\n",
       "\\(A::Union(SubArray{T,2,A<:DenseArray{T,N},I<:(Union(Range{Int64},Int64)...,)},DenseArray{T,2}),B::Union(SubArray{T,1,A<:DenseArray{T,N},I<:(Union(Range{Int64},Int64)...,)},SubArray{T,2,A<:DenseArray{T,N},I<:(Union(Range{Int64},Int64)...,)},DenseArray{T,1},DenseArray{T,2})) at linalg/dense.jl:409\n",
       "\\{T<:Union(Complex{Float32},Float64,Complex{Float64},Float32),S<:AbstractArray{T,2},UpLo,IsUnit}(A::Triangular{T<:Union(Complex{Float32},Float64,Complex{Float64},Float32),S<:AbstractArray{T,2},UpLo,IsUnit},B::Union(DenseArray{T<:Union(Complex{Float32},Float64,Complex{Float64},Float32),1},DenseArray{T<:Union(Complex{Float32},Float64,Complex{Float64},Float32),2},SubArray{T<:Union(Complex{Float32},Float64,Complex{Float64},Float32),2,A<:DenseArray{T,N},I<:(Union(Range{Int64},Int64)...,)},SubArray{T<:Union(Complex{Float32},Float64,Complex{Float64},Float32),1,A<:DenseArray{T,N},I<:(Union(Range{Int64},Int64)...,)})) at linalg/triangular.jl:49\n",
       "\\(A::Union(Hermitian{T},Symmetric{T}),B::Union(SubArray{T,1,A<:DenseArray{T,N},I<:(Union(Range{Int64},Int64)...,)},SubArray{T,2,A<:DenseArray{T,N},I<:(Union(Range{Int64},Int64)...,)},DenseArray{T,1},DenseArray{T,2})) at linalg/symmetric.jl:40\n",
       "\\(W::Woodbury{T},R::Union(SubArray{T,1,A<:DenseArray{T,N},I<:(Union(Range{Int64},Int64)...,)},SubArray{T,2,A<:DenseArray{T,N},I<:(Union(Range{Int64},Int64)...,)},DenseArray{T,1},DenseArray{T,2})) at linalg/woodbury.jl:73\n",
       "\\{TD<:Number,TA<:Number}(D::Diagonal{TD<:Number},A::AbstractArray{TA<:Number,1}) at linalg/diagonal.jl:101\n",
       "\\(Da::Diagonal{T},Db::Diagonal{T}) at linalg/diagonal.jl:114\n",
       "\\{TA<:Number,Tb<:Number}(A::Union(Bidiagonal{TA<:Number},Triangular{TA<:Number,S<:AbstractArray{T,2},UpLo,IsUnit}),b::AbstractArray{Tb<:Number,1}) at linalg/bidiag.jl:127\n",
       "\\{TA<:Number,TB<:Number}(A::Union(Bidiagonal{TA<:Number},Triangular{TA<:Number,S<:AbstractArray{T,2},UpLo,IsUnit}),B::AbstractArray{TB<:Number,2}) at linalg/bidiag.jl:131\n",
       "\\{TA,TB}(A::AbstractArray{TA,2},B::Union(AbstractArray{TB,2},AbstractArray{TB,1})) at linalg/generic.jl:231\n",
       "\\(a::AbstractArray{T,1},b::AbstractArray{T,N}) at linalg/generic.jl:235\n",
       "\\{TA,Tb}(A::Union(QR{TA},QRCompactWY{TA},QRPivoted{TA}),b::Union(DenseArray{Tb,1},SubArray{Tb,1,A<:DenseArray{T,N},I<:(Union(Range{Int64},Int64)...,)})) at linalg/factorization.jl:472\n",
       "\\{TA,TB}(A::Union(QR{TA},QRCompactWY{TA},QRPivoted{TA}),B::Union(SubArray{TB,2,A<:DenseArray{T,N},I<:(Union(Range{Int64},Int64)...,)},DenseArray{TB,2})) at linalg/factorization.jl:478\n",
       "\\{T<:Union(Complex{Float32},Float64,Complex{Float64},Float32)}(A::SVD{T<:Union(Complex{Float32},Float64,Complex{Float64},Float32),Tr},B::Union(DenseArray{T<:Union(Complex{Float32},Float64,Complex{Float64},Float32),1},DenseArray{T<:Union(Complex{Float32},Float64,Complex{Float64},Float32),2},SubArray{T<:Union(Complex{Float32},Float64,Complex{Float64},Float32),2,A<:DenseArray{T,N},I<:(Union(Range{Int64},Int64)...,)},SubArray{T<:Union(Complex{Float32},Float64,Complex{Float64},Float32),1,A<:DenseArray{T,N},I<:(Union(Range{Int64},Int64)...,)})) at linalg/factorization.jl:689\n",
       "\\(A::CholeskyDenseRFP{T<:Union(Complex{Float32},Float64,Complex{Float64},Float32)},B::Union(Array{T,1},Array{T,2})) at linalg/rectfullpacked.jl:36\n",
       "\\{TF<:Number,TB<:Number,N}(F::Factorization{TF<:Number},B::AbstractArray{TB<:Number,N}) at linalg/factorization.jl:814\n",
       "\\(J1::UniformScaling{T<:Number},J2::UniformScaling{T<:Number}) at linalg/uniformscaling.jl:84\n",
       "\\{T<:Number}(A::Union(Bidiagonal{T<:Number},Triangular{T<:Number,S<:AbstractArray{T,2},UpLo,IsUnit}),J::UniformScaling{T<:Number}) at linalg/uniformscaling.jl:85\n",
       "\\(J::UniformScaling{T<:Number},A::Union(AbstractArray{T,1},AbstractArray{T,2})) at linalg/uniformscaling.jl:86\n",
       "\\(A::AbstractArray{T,2},J::UniformScaling{T<:Number}) at linalg/uniformscaling.jl:87\n",
       "\\(x::Number,J::UniformScaling{T<:Number}) at linalg/uniformscaling.jl:89\n",
       "\\{T<:Union(Float64,Complex{Float64})}(L::CholmodFactor{T<:Union(Float64,Complex{Float64}),Ti<:Union(Int64,Int32)},B::CholmodDense{T<:Union(Float64,Complex{Float64})}) at linalg/cholmod.jl:882\n",
       "\\{T<:Union(Float64,Complex{Float64})}(L::CholmodFactor{T<:Union(Float64,Complex{Float64}),Ti<:Union(Int64,Int32)},b::Array{T<:Union(Float64,Complex{Float64}),1}) at linalg/cholmod.jl:883\n",
       "\\{T<:Union(Float64,Complex{Float64})}(L::CholmodFactor{T<:Union(Float64,Complex{Float64}),Ti<:Union(Int64,Int32)},B::Array{T<:Union(Float64,Complex{Float64}),2}) at linalg/cholmod.jl:884\n",
       "\\{Tv<:Union(Float64,Complex{Float64}),Ti<:Union(Int64,Int32)}(L::CholmodFactor{Tv<:Union(Float64,Complex{Float64}),Ti<:Union(Int64,Int32)},B::CholmodSparse{Tv<:Union(Float64,Complex{Float64}),Ti<:Union(Int64,Int32)}) at linalg/cholmod.jl:966\n",
       "\\{Tv<:Union(Float64,Complex{Float64}),Ti<:Union(Int64,Int32)}(L::CholmodFactor{Tv<:Union(Float64,Complex{Float64}),Ti<:Union(Int64,Int32)},B::SparseMatrixCSC{Tv<:Union(Float64,Complex{Float64}),Ti<:Union(Int64,Int32)}) at linalg/cholmod.jl:889\n",
       "\\(df1,a) at In[29]:1"
      ]
     },
     "execution_count": 32,
     "metadata": {},
     "output_type": "execute_result"
    }
   ],
   "source": [
    "methods(\\)"
   ]
  },
  {
   "cell_type": "code",
   "execution_count": 41,
   "metadata": {
    "collapsed": false
   },
   "outputs": [
    {
     "data": {
      "text/plain": [
       ">: (generic function with 1 method)"
      ]
     },
     "execution_count": 41,
     "metadata": {},
     "output_type": "execute_result"
    }
   ],
   "source": [
    "function >:(a,b)\n",
    "    return a[:b]\n",
    "end"
   ]
  },
  {
   "cell_type": "code",
   "execution_count": 81,
   "metadata": {
    "collapsed": false
   },
   "outputs": [
    {
     "data": {
      "text/plain": [
       "Dict{Any,Any} with 2 entries:\n",
       "  :c => 3\n",
       "  :a => {:b=>2}"
      ]
     },
     "execution_count": 81,
     "metadata": {},
     "output_type": "execute_result"
    }
   ],
   "source": [
    "d1 = { :a => { :b => 2 }, :c => 3 }"
   ]
  },
  {
   "cell_type": "code",
   "execution_count": 115,
   "metadata": {
    "collapsed": false
   },
   "outputs": [
    {
     "data": {
      "text/plain": [
       "| (generic function with 34 methods)"
      ]
     },
     "execution_count": 115,
     "metadata": {},
     "output_type": "execute_result"
    }
   ],
   "source": [
    "function >:(a::Dict{},b)\n",
    "    return a[b]\n",
    "end\n",
    "function /(a::Dict{},b)\n",
    "    return a[b]\n",
    "end\n",
    "function \\(a::Dict{},b)\n",
    "    return a[b]\n",
    "end\n",
    "function -(a::Dict{},b)\n",
    "    return a[b]\n",
    "end\n",
    "function |(a::Dict{},b)\n",
    "    return a[b]\n",
    "end\n"
   ]
  },
  {
   "cell_type": "code",
   "execution_count": 116,
   "metadata": {
    "collapsed": false
   },
   "outputs": [
    {
     "data": {
      "text/plain": [
       "Dict{Any,Any} with 1 entry:\n",
       "  :b => 2"
      ]
     },
     "execution_count": 116,
     "metadata": {},
     "output_type": "execute_result"
    }
   ],
   "source": [
    "d1 >: :a"
   ]
  },
  {
   "cell_type": "code",
   "execution_count": 117,
   "metadata": {
    "collapsed": false
   },
   "outputs": [
    {
     "data": {
      "text/plain": [
       "Dict{Any,Any} with 1 entry:\n",
       "  :b => 2"
      ]
     },
     "execution_count": 117,
     "metadata": {},
     "output_type": "execute_result"
    }
   ],
   "source": [
    "d1 /: a "
   ]
  },
  {
   "cell_type": "code",
   "execution_count": 118,
   "metadata": {
    "collapsed": false
   },
   "outputs": [
    {
     "name": "stdout",
     "output_type": "stream",
     "text": [
      "2\n",
      "2\n",
      "2\n",
      "2\n",
      "2\n"
     ]
    }
   ],
   "source": [
    "println( d1[:a][:b] )\n",
    "\n",
    "println( d1\\:a\\:b )\n",
    "\n",
    "println( d1/:a/:b )\n",
    "\n",
    "println( d1|:a|:b )\n",
    "\n",
    "println( d1 \\: a \\: b )\n"
   ]
  },
  {
   "cell_type": "code",
   "execution_count": 114,
   "metadata": {
    "collapsed": true
   },
   "outputs": [],
   "source": [
    "macro get(expr)\n",
    "    println(:($expr))\n",
    "end"
   ]
  },
  {
   "cell_type": "code",
   "execution_count": 94,
   "metadata": {
    "collapsed": false
   },
   "outputs": [
    {
     "name": "stdout",
     "output_type": "stream",
     "text": [
      "d1.a.b\n"
     ]
    }
   ],
   "source": [
    "@get d1.a.b"
   ]
  },
  {
   "cell_type": "code",
   "execution_count": null,
   "metadata": {
    "collapsed": true
   },
   "outputs": [],
   "source": []
  }
 ],
 "metadata": {
  "kernelspec": {
   "display_name": "Julia 0.3.5",
   "language": "julia",
   "name": "julia 0.3"
  },
  "language_info": {
   "name": "julia",
   "version": "0.3.5"
  }
 },
 "nbformat": 4,
 "nbformat_minor": 0
}
