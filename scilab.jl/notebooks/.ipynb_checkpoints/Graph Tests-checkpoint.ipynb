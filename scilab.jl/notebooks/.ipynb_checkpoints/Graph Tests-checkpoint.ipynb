{
 "cells": [
  {
   "cell_type": "code",
   "execution_count": 1,
   "metadata": {
    "collapsed": true
   },
   "outputs": [],
   "source": [
    "using Gadfly\n"
   ]
  },
  {
   "cell_type": "code",
   "execution_count": 2,
   "metadata": {
    "collapsed": true
   },
   "outputs": [],
   "source": [
    "using MAT "
   ]
  },
  {
   "cell_type": "code",
   "execution_count": 3,
   "metadata": {
    "collapsed": false
   },
   "outputs": [
    {
     "data": {
      "text/plain": [
       "\"/Users/elcritch/proj/expers/fatigue-failure|uts|expr1/\""
      ]
     },
     "execution_count": 3,
     "metadata": {},
     "output_type": "execute_result"
    }
   ],
   "source": [
    "projdir = expanduser(\"~/proj/expers/fatigue-failure|uts|expr1/\")"
   ]
  },
  {
   "cell_type": "code",
   "execution_count": 4,
   "metadata": {
    "collapsed": false
   },
   "outputs": [
    {
     "data": {
      "text/plain": [
       "\"/Users/elcritch/proj/expers/fatigue-failure|uts|expr1\""
      ]
     },
     "execution_count": 4,
     "metadata": {},
     "output_type": "execute_result"
    }
   ],
   "source": [
    "realpath(projdir)"
   ]
  },
  {
   "cell_type": "code",
   "execution_count": 5,
   "metadata": {
    "collapsed": false
   },
   "outputs": [
    {
     "data": {
      "text/plain": [
       "\"02_Tests/dec01(gf10.1-llm)-wa-lg-l6-x1/\""
      ]
     },
     "execution_count": 5,
     "metadata": {},
     "output_type": "execute_result"
    }
   ],
   "source": [
    "testdir = \"02_Tests/dec01\\(gf10.1-llm\\)-wa-lg-l6-x1/\""
   ]
  },
  {
   "cell_type": "code",
   "execution_count": 6,
   "metadata": {
    "collapsed": false
   },
   "outputs": [
    {
     "data": {
      "text/plain": [
       "topath (generic function with 1 method)"
      ]
     },
     "execution_count": 6,
     "metadata": {},
     "output_type": "execute_result"
    }
   ],
   "source": [
    "/(p1::String,p2::String) = return p1 * \"/\" * p2\n",
    "topath(p::String) = realpath(projdir / p)\n",
    "    "
   ]
  },
  {
   "cell_type": "code",
   "execution_count": 7,
   "metadata": {
    "collapsed": false
   },
   "outputs": [
    {
     "data": {
      "text/plain": [
       "\"/Users/elcritch/proj/expers/fatigue-failure|uts|expr1/02_Tests/dec01(gf10.1-llm)-wa-lg-l6-x1\""
      ]
     },
     "execution_count": 7,
     "metadata": {},
     "output_type": "execute_result"
    }
   ],
   "source": [
    "testdir |> topath"
   ]
  },
  {
   "cell_type": "code",
   "execution_count": 8,
   "metadata": {
    "collapsed": false
   },
   "outputs": [
    {
     "data": {
      "text/plain": [
       "\"02_Tests/dec01(gf10.1-llm)-wa-lg-l6-x1//data/data (test=1001-1LG-601 | stage=norm | item=tracking | method=preload | v0).mat\""
      ]
     },
     "execution_count": 8,
     "metadata": {},
     "output_type": "execute_result"
    }
   ],
   "source": [
    "mfl1 = testdir/\"data/data (test=1001-1LG-601 | stage=norm | item=tracking | method=preload | v0).mat\" "
   ]
  },
  {
   "cell_type": "code",
   "execution_count": 9,
   "metadata": {
    "collapsed": false
   },
   "outputs": [
    {
     "data": {
      "text/plain": [
       "Dict{ASCIIString,Any} with 4 entries:\n",
       "  \"summary\"    => [\"step\"=>[\"mins\"=>[\"idx\"=>0,\"value\"=>2.0],\"maxs\"=>[\"idx\"=>268…\n",
       "  \"indexes\"    => [\"step\"=>[\"idx_6\"=>[454 22529 1],\"idx_4\"=>[216 259 1],\"idx_13…\n",
       "  \"data\"       => [\"step\"=>[2.0 2.0 2.0 2.0 2.0 2.0 2.0 2.0 2.0 2.0 2.0 2.0 2.0…\n",
       "  \"columninfo\" => [\"step\"=>[\"label\"=>\"WaveMatrix Step\",\"name\"=>\"step\",\"units\"=>…"
      ]
     },
     "execution_count": 9,
     "metadata": {},
     "output_type": "execute_result"
    }
   ],
   "source": [
    "matdata = mfl1 |> topath |> matread"
   ]
  },
  {
   "cell_type": "code",
   "execution_count": 10,
   "metadata": {
    "collapsed": false
   },
   "outputs": [
    {
     "data": {
      "text/plain": [
       "Dict{ASCIIString,Any} with 9 entries:\n",
       "  \"step\"             => [2.0 2.0 2.0 2.0 2.0 2.0 2.0 2.0 2.0 2.0 2.0 2.0 2.0 2.…\n",
       "  \"totalTime\"        => [0.389 0.399 0.409 0.42 0.43 0.44 0.45 0.451 0.46 0.47 …\n",
       "  \"totalCycleCount\"  => [1.0 1.0 1.0 1.0 1.0 1.0 1.0 1.0 1.0 1.0 1.0 1.0 1.0 1.…\n",
       "  \"load\"             => [0.0421162694692612 0.128204002976418 0.023445114493370…\n",
       "  \"cycleElapsedTime\" => [0.0 0.01 0.02 0.031 0.041 0.051 0.061 0.062 0.071 0.08…\n",
       "  \"strain\"           => [0.01564385208808396 0.01564419733019242 0.015644680669…\n",
       "  \"stress\"           => [0.05159109234883716 0.15704583146601758 0.028719520560…\n",
       "  \"elapsedCycles\"    => [1.0 1.0 1.0 1.0 1.0 1.0 1.0 1.0 1.0 1.0 1.0 1.0 1.0 1.…\n",
       "  \"disp\"             => [0.227883993367119 0.227889022508913 0.227896063307424 …"
      ]
     },
     "execution_count": 10,
     "metadata": {},
     "output_type": "execute_result"
    }
   ],
   "source": [
    "data = matdata[\"data\"]\n",
    "data"
   ]
  },
  {
   "cell_type": "code",
   "execution_count": 11,
   "metadata": {
    "collapsed": false
   },
   "outputs": [
    {
     "data": {
      "text/plain": [
       "26927-element Array{Float64,1}:\n",
       "  0.399\n",
       "  0.409\n",
       "  0.42 \n",
       "  0.43 \n",
       "  0.44 \n",
       "  0.45 \n",
       "  0.451\n",
       "  0.46 \n",
       "  0.47 \n",
       "  0.472\n",
       "  0.473\n",
       "  0.475\n",
       "  0.476\n",
       "  ⋮    \n",
       " 54.65 \n",
       " 54.66 \n",
       " 54.668\n",
       " 54.671\n",
       " 54.681\n",
       " 54.692\n",
       " 54.703\n",
       " 54.714\n",
       " 54.724\n",
       " 54.735\n",
       " 54.745\n",
       " 54.748"
      ]
     },
     "execution_count": 11,
     "metadata": {},
     "output_type": "execute_result"
    }
   ],
   "source": [
    "data[\"totalTime\"][:2:end]"
   ]
  },
  {
   "cell_type": "code",
   "execution_count": null,
   "metadata": {
    "collapsed": false
   },
   "outputs": [],
   "source": []
  },
  {
   "cell_type": "code",
   "execution_count": 13,
   "metadata": {
    "collapsed": false
   },
   "outputs": [],
   "source": [
    "\n",
    "# p = plot(\n",
    "#     layer(x=data[\"totalTime\"][:10:end], y=data[\"strain\"][:10:end], Geom.line),\n",
    "#     layer(x=data[\"totalTime\"][:10:end], y=data[\"stress\"][:10:end], Geom.line),\n",
    "#     Theme(panel_fill=color(\"white\"))\n",
    "# )\n"
   ]
  },
  {
   "cell_type": "code",
   "execution_count": 14,
   "metadata": {
    "collapsed": false
   },
   "outputs": [],
   "source": [
    "# p = plot(\n",
    "#     layer(x=data[\"totalTime\"], y=data[\"strain\"], Geom.point),\n",
    "#     layer(x=data[\"totalTime\"], y=data[\"stress\"], Geom.point),\n",
    "#     Theme(panel_fill=color(\"white\"))\n",
    "# )\n"
   ]
  },
  {
   "cell_type": "code",
   "execution_count": 1,
   "metadata": {
    "collapsed": false
   },
   "outputs": [
    {
     "ename": "LoadError",
     "evalue": "@bar not defined\nwhile loading In[1], in expression starting on line 1",
     "output_type": "error",
     "traceback": [
      "@bar not defined\nwhile loading In[1], in expression starting on line 1",
      ""
     ]
    }
   ],
   "source": [
    "foo@bar"
   ]
  },
  {
   "cell_type": "code",
   "execution_count": 2,
   "metadata": {
    "collapsed": false
   },
   "outputs": [
    {
     "ename": "LoadError",
     "evalue": "foo!bar not defined\nwhile loading In[2], in expression starting on line 1",
     "output_type": "error",
     "traceback": [
      "foo!bar not defined\nwhile loading In[2], in expression starting on line 1",
      ""
     ]
    }
   ],
   "source": [
    "foo!bar"
   ]
  },
  {
   "cell_type": "code",
   "execution_count": 3,
   "metadata": {
    "collapsed": false
   },
   "outputs": [
    {
     "ename": "LoadError",
     "evalue": "foo not defined\nwhile loading In[3], in expression starting on line 1",
     "output_type": "error",
     "traceback": [
      "foo not defined\nwhile loading In[3], in expression starting on line 1",
      ""
     ]
    }
   ],
   "source": [
    "foo|bar"
   ]
  },
  {
   "cell_type": "code",
   "execution_count": 4,
   "metadata": {
    "collapsed": false
   },
   "outputs": [
    {
     "ename": "LoadError",
     "evalue": "`|` has no method matching |(::ASCIIString, ::ASCIIString)\nwhile loading In[4], in expression starting on line 1",
     "output_type": "error",
     "traceback": [
      "`|` has no method matching |(::ASCIIString, ::ASCIIString)\nwhile loading In[4], in expression starting on line 1",
      ""
     ]
    }
   ],
   "source": [
    "\"foo\"|\"bar\""
   ]
  },
  {
   "cell_type": "code",
   "execution_count": 9,
   "metadata": {
    "collapsed": false
   },
   "outputs": [
    {
     "ename": "LoadError",
     "evalue": "syntax: \":>\" found instead of \">:\"\nwhile loading In[9], in expression starting on line 1",
     "output_type": "error",
     "traceback": [
      "syntax: \":>\" found instead of \">:\"\nwhile loading In[9], in expression starting on line 1",
      ""
     ]
    }
   ],
   "source": [
    "foo:>bar = 3 "
   ]
  },
  {
   "cell_type": "code",
   "execution_count": 10,
   "metadata": {
    "collapsed": false
   },
   "outputs": [
    {
     "ename": "LoadError",
     "evalue": "syntax: \":>\" found instead of \">:\"\nwhile loading In[10], in expression starting on line 1",
     "output_type": "error",
     "traceback": [
      "syntax: \":>\" found instead of \">:\"\nwhile loading In[10], in expression starting on line 1",
      ""
     ]
    }
   ],
   "source": [
    "dataframe:>a "
   ]
  },
  {
   "cell_type": "code",
   "execution_count": 11,
   "metadata": {
    "collapsed": false
   },
   "outputs": [
    {
     "ename": "LoadError",
     "evalue": "syntax: \":>\" found instead of \">:\"\nwhile loading In[11], in expression starting on line 1",
     "output_type": "error",
     "traceback": [
      "syntax: \":>\" found instead of \">:\"\nwhile loading In[11], in expression starting on line 1",
      ""
     ]
    }
   ],
   "source": [
    "df1.`a = 4"
   ]
  },
  {
   "cell_type": "code",
   "execution_count": 12,
   "metadata": {
    "collapsed": false
   },
   "outputs": [
    {
     "ename": "LoadError",
     "evalue": "syntax: invalid method name \":(>)\"\nwhile loading In[12], in expression starting on line 3",
     "output_type": "error",
     "traceback": [
      "syntax: invalid method name \":(>)\"\nwhile loading In[12], in expression starting on line 3",
      ""
     ]
    }
   ],
   "source": [
    "\n",
    "function :>(a,b)\n",
    "    return getfeild(a,b)\n",
    "end"
   ]
  },
  {
   "cell_type": "code",
   "execution_count": 13,
   "metadata": {
    "collapsed": false
   },
   "outputs": [
    {
     "data": {
      "text/plain": [
       ":+"
      ]
     },
     "execution_count": 13,
     "metadata": {},
     "output_type": "execute_result"
    }
   ],
   "source": [
    ":+"
   ]
  },
  {
   "cell_type": "code",
   "execution_count": 14,
   "metadata": {
    "collapsed": false
   },
   "outputs": [
    {
     "data": {
      "text/plain": [
       "issubtype"
      ]
     },
     "execution_count": 14,
     "metadata": {},
     "output_type": "execute_result"
    }
   ],
   "source": [
    "<:"
   ]
  },
  {
   "cell_type": "code",
   "execution_count": 18,
   "metadata": {
    "collapsed": false
   },
   "outputs": [
    {
     "data": {
      "text/plain": [
       "\"123\""
      ]
     },
     "execution_count": 18,
     "metadata": {},
     "output_type": "execute_result"
    }
   ],
   "source": [
    "s1 = \"abc\"\n",
    "s2 = \"123\""
   ]
  },
  {
   "cell_type": "code",
   "execution_count": 21,
   "metadata": {
    "collapsed": false
   },
   "outputs": [
    {
     "ename": "LoadError",
     "evalue": "invalid method definition: not a generic function\nwhile loading In[21], in expression starting on line 1",
     "output_type": "error",
     "traceback": [
      "invalid method definition: not a generic function\nwhile loading In[21], in expression starting on line 1",
      ""
     ]
    }
   ],
   "source": [
    "function <:(a,b)\n",
    "    return get(a,b)\n",
    "end"
   ]
  },
  {
   "cell_type": "code",
   "execution_count": 22,
   "metadata": {
    "collapsed": false
   },
   "outputs": [
    {
     "ename": "LoadError",
     "evalue": "unsupported or misplaced expression =>\nwhile loading In[22], in expression starting on line 1",
     "output_type": "error",
     "traceback": [
      "unsupported or misplaced expression =>\nwhile loading In[22], in expression starting on line 1",
      ""
     ]
    }
   ],
   "source": [
    "s1 => s2"
   ]
  },
  {
   "cell_type": "code",
   "execution_count": 25,
   "metadata": {
    "collapsed": false
   },
   "outputs": [
    {
     "ename": "LoadError",
     "evalue": "unsupported or misplaced expression =>\nwhile loading In[25], in expression starting on line 1",
     "output_type": "error",
     "traceback": [
      "unsupported or misplaced expression =>\nwhile loading In[25], in expression starting on line 1",
      ""
     ]
    }
   ],
   "source": [
    "s1 <: s2 "
   ]
  },
  {
   "cell_type": "code",
   "execution_count": 119,
   "metadata": {
    "collapsed": false
   },
   "outputs": [
    {
     "data": {
      "text/plain": [
       "\\ (generic function with 33 methods)"
      ]
     },
     "execution_count": 119,
     "metadata": {},
     "output_type": "execute_result"
    }
   ],
   "source": [
    "df1\\a = b "
   ]
  },
  {
   "cell_type": "code",
   "execution_count": 122,
   "metadata": {
    "collapsed": false
   },
   "outputs": [
    {
     "data": {
      "text/plain": [
       "\"1\\n2 \\\"a\\\"\\n3\\n\""
      ]
     },
     "execution_count": 122,
     "metadata": {},
     "output_type": "execute_result"
    }
   ],
   "source": [
    "s1 = \"\"\"\n",
    "1\n",
    "2 \"a\"\n",
    "3\n",
    "\"\"\""
   ]
  },
  {
   "cell_type": "code",
   "execution_count": null,
   "metadata": {
    "collapsed": true
   },
   "outputs": [],
   "source": []
  }
 ],
 "metadata": {
  "kernelspec": {
   "display_name": "Julia 0.3.5",
   "language": "julia",
   "name": "julia 0.3"
  },
  "language_info": {
   "name": "julia",
   "version": "0.3.5"
  }
 },
 "nbformat": 4,
 "nbformat_minor": 0
}
