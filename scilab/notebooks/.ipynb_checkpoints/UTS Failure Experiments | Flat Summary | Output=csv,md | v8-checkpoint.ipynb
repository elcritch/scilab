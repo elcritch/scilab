{
 "cells": [
  {
   "cell_type": "code",
   "execution_count": 1,
   "metadata": {
    "collapsed": true
   },
   "outputs": [],
   "source": [
    "import os, sys, functools, itertools, collections, re, logging, json\n",
    "import numpy as np\n",
    "from pathlib import *\n",
    "from tabulate import *\n",
    "from addict import Dict"
   ]
  },
  {
   "cell_type": "code",
   "execution_count": 2,
   "metadata": {
    "collapsed": false
   },
   "outputs": [],
   "source": [
    "import matplotlib\n",
    "# matplotlib.use('Agg')\n",
    "%matplotlib inline\n",
    "import matplotlib.pyplot as plt\n",
    "from collections import OrderedDict"
   ]
  },
  {
   "cell_type": "code",
   "execution_count": 3,
   "metadata": {
    "collapsed": false
   },
   "outputs": [],
   "source": [
    "from IPython.display import display\n",
    "from IPython.display import *\n"
   ]
  },
  {
   "cell_type": "code",
   "execution_count": 4,
   "metadata": {
    "collapsed": false
   },
   "outputs": [],
   "source": [
    "import PIL\n",
    "import PIL.Image\n",
    "from base64 import b64encode"
   ]
  },
  {
   "cell_type": "code",
   "execution_count": 5,
   "metadata": {
    "collapsed": false
   },
   "outputs": [],
   "source": [
    "NOTEBOOK_DIR = Path(os.curdir).resolve() "
   ]
  },
  {
   "cell_type": "code",
   "execution_count": 6,
   "metadata": {
    "collapsed": false
   },
   "outputs": [
    {
     "data": {
      "text/plain": [
       "PosixPath('/Users/elcritch/proj/code/scilab/scilab')"
      ]
     },
     "execution_count": 6,
     "metadata": {},
     "output_type": "execute_result"
    }
   ],
   "source": [
    "PARENT_DIR = Path(os.curdir) / '..' \n",
    "PARENT_DIR = PARENT_DIR.resolve()\n",
    "PARENT_DIR"
   ]
  },
  {
   "cell_type": "code",
   "execution_count": 7,
   "metadata": {
    "collapsed": false
   },
   "outputs": [],
   "source": [
    "import scilab \n",
    "import scilab.tools.graphing \n",
    "import scilab.tools.jsonutils as Json\n",
    "from scilab.tools.project import *\n",
    "from scilab.expers.mechanical.fatigue.uts import TestInfo\n",
    "from scilab.expers.mechanical.fatigue.uts import FileStructure\n",
    "# from scilab.expers.mechanical.fatigue.helpers import flatten"
   ]
  },
  {
   "cell_type": "code",
   "execution_count": 13,
   "metadata": {
    "collapsed": false
   },
   "outputs": [
    {
     "data": {
      "text/plain": [
       "PosixPath('/Users/elcritch/proj/expers/fatigue-failure|uts|expr1')"
      ]
     },
     "execution_count": 13,
     "metadata": {},
     "output_type": "execute_result"
    }
   ],
   "source": [
    "WORKING_DIR_FULL = Path(os.path.expanduser(\"~/proj/expers/fatigue-failure|uts|expr1\"))\n",
    "WORKING_DIR_FULL = WORKING_DIR_FULL.resolve()\n",
    "WORKING_DIR_FULL"
   ]
  },
  {
   "cell_type": "code",
   "execution_count": 14,
   "metadata": {
    "collapsed": false
   },
   "outputs": [],
   "source": [
    "import scilab.expers.configuration as config\n",
    "import scilab.expers.mechanical.fatigue.uts as exper_uts"
   ]
  },
  {
   "cell_type": "code",
   "execution_count": 15,
   "metadata": {
    "collapsed": false
   },
   "outputs": [],
   "source": [
    "pdp = WORKING_DIR_FULL / 'projdesc.json' \n",
    "fs = config.FileStructure(projdescpath=pdp,testinfo=exper_uts.TestInfo, verify=True)\n",
    "# Test test images for now\n",
    "test_dir = fs.tests.resolve()\n",
    "testitemsd = fs.testitemsd()\n"
   ]
  },
  {
   "cell_type": "code",
   "execution_count": 16,
   "metadata": {
    "collapsed": false
   },
   "outputs": [],
   "source": [
    "import seaborn as sns\n",
    "# sns.set_style(\"whitegrid\")\n",
    "# sns.set_style(\"ticks\")\n",
    "sns.set_style(\"dark\")\n",
    "\n",
    "testitems = { k.name: DataTree(info=k, folder=v, data=DataTree() ) for k,v in testitemsd.items()}\n",
    "for testitem in testitems.values():\n",
    "    testitem.folder = fs.testfolder(testinfo=testitem.info)\n",
    "    testitem.data.details = Json.load_json_from(testitem.folder.details)\n"
   ]
  },
  {
   "cell_type": "code",
   "execution_count": 17,
   "metadata": {
    "collapsed": false
   },
   "outputs": [
    {
     "name": "stdout",
     "output_type": "stream",
     "text": [
      "{'excel': {'notes': {'distance': None,\n",
      "                     'failue': None,\n",
      "                     'location': None,\n",
      "                     'notes': None},\n",
      "           'other': {'est_precond': 0.58832,\n",
      "                     'est_rate': 0.14708,\n",
      "                     'max_force': '-',\n",
      "                     'precond_amp': 0.29416,\n",
      "                     'precond_amt': 0.08,\n",
      "                     'stress_uts': '#VALUE!',\n",
      "                     'target_gauge': 7,\n",
      "                     'target_position': None}},\n",
      " 'gauge': {'base': -8.2,\n",
      "           'init_position': -0.846,\n",
      "           'units': 'mm',\n",
      "           'value': 7.353999999999999},\n",
      " 'graphs': {'modulus': {'data': {'linear_modulus': 20.60285624147392,\n",
      "                                 'strain_linear': {'intercept': -3.2711740525642607,\n",
      "                                                   'slope': 0.16333591122990795},\n",
      "                                 'stress_linear': {'intercept': -68.04081455831898,\n",
      "                                                   'slope': 3.365186298139939}},\n",
      "                        'data_json': {'slope_strain': 0.16333591122990795,\n",
      "                                      'slope_stress': 3.365186298139939,\n",
      "                                      'value': 20.60285624147392},\n",
      "                        'sl': [1985, 2002, None]}},\n",
      " 'id': '902-1TR-701',\n",
      " 'info': {'date': 'nov24',\n",
      "          'layer': '7',\n",
      "          'name': 'nov24(gf9.2-llm)-wa-tr-l7-x1',\n",
      "          'orientation': 'tr',\n",
      "          'run': None,\n",
      "          'sample': '1',\n",
      "          'set': 'gf9.2',\n",
      "          'side': 'llm',\n",
      "          'wedge': 'a'},\n",
      " 'measurements': {'area': {'units': 'mm^2', 'value': 0.5461594721934022},\n",
      "                  'depth': {'stdev': 0.05093665975484806,\n",
      "                            'units': 'mm',\n",
      "                            'value': 0.9986357359858519},\n",
      "                  'image': {'other': {}},\n",
      "                  'width': {'stdev': 0.03512562034371174,\n",
      "                            'units': 'mm',\n",
      "                            'value': 0.5469055958169114}},\n",
      " 'name': 'nov24(gf9.2-llm)-wa-tr-l7-x1',\n",
      " 'variables': {'precond': {'tracking': {'norm': {'pre': {'load_balance': 0.07291245316578583}}}},\n",
      "               'preload': {'tracking': {'norm': {'post': {'preload_std': 0.002403926137565402,\n",
      "                                                          'preload_value': 0.08771140562991302}}}},\n",
      "               'uts': {'tracking': {'norm': {'post': {'disp_max_value': 2.23695690553498,\n",
      "                                                      'load_max': {'idx': 1449,\n",
      "                                                                   'value': 3.34656149256759},\n",
      "                                                      'strain_max_value': 0.30418233689624424,\n",
      "                                                      'stress_max': {'idx': 1449,\n",
      "                                                                     'value': 6.176475561964977}},\n",
      "                                             'pre': {'load_balance': 0.05900561701722012}}}}}}\n"
     ]
    }
   ],
   "source": [
    "print(list(testitems.items())[0][1].data.details)"
   ]
  },
  {
   "cell_type": "code",
   "execution_count": 18,
   "metadata": {
    "collapsed": false
   },
   "outputs": [],
   "source": [
    "from scilab.tools.tables import mdBlock, mdHeader, ImageTable, MarkdownTable\n",
    "from functools import partial "
   ]
  },
  {
   "cell_type": "code",
   "execution_count": 19,
   "metadata": {
    "collapsed": false
   },
   "outputs": [],
   "source": [
    "def mapTo(func, iterable,*args,**kwargs):\n",
    "    return [ (i, func(i,*args,**kwargs)) for i in iterable ]"
   ]
  },
  {
   "cell_type": "code",
   "execution_count": 20,
   "metadata": {
    "collapsed": true
   },
   "outputs": [],
   "source": [
    "tableStrs = []\n",
    "\n",
    "def generateTable(table, headers, tablefmt='pipe'):\n",
    "    return mdBlock(table.generateTable(headers=headers, tablefmt=tablefmt).format())\n",
    "\n",
    "for name, test in testitems.items():\n",
    "    \n",
    "    if not test:\n",
    "        continue\n",
    "    \n",
    "    tableStrs.append(mdHeader(2,\"Test: \"+test.info.name+\" (%s)\"%test.info.short))\n",
    "    \n",
    "    infoTable = MarkdownTable()\n",
    "\n",
    "    row = ['**{}**'.format(test.info.set.upper()) ]\n",
    "    row += test.info[1:] \n",
    "    infoTable.add_row( row )\n",
    "    \n",
    "    tableStrs.append(generateTable(infoTable, headers=test.info._fields))\n",
    "\n",
    "    for name, data in test.data.items():\n",
    "        jsonTable = MarkdownTable()\n",
    "        \n",
    "        for item in flatten(data,sep='.').items():\n",
    "            jsonTable.add_row( item )\n",
    "        \n",
    "        tableStrs.append(mdHeader(4,\"Detail: \"+name))\n",
    "        tableStrs.append(generateTable(jsonTable, headers=['Name','Value']))\n",
    "    \n",
    "#     # Images Table\n",
    "#     table2 = ImageTable()\n",
    "#     [ table2.add_row([img.name, ImgPath(img),]) \n",
    "#         for img in test.cleaned if img ]\n",
    "    \n",
    "#     tableStrs2.append(mdHeader(2,test.info.name))\n",
    "#     tableStrs2.append(generateTable(table2, headers=['File','Image'])))\n",
    "\n",
    "with open(str(fs.results/'UTS Test Details.v8.md'),'w') as report:\n",
    "    report.write(mdHeader(1,'Test Details'))\n",
    "    \n",
    "    for t in tableStrs: report.write(t)\n",
    "    report.write(\"\\n\\n\")"
   ]
  },
  {
   "cell_type": "code",
   "execution_count": null,
   "metadata": {
    "collapsed": false
   },
   "outputs": [],
   "source": []
  },
  {
   "cell_type": "code",
   "execution_count": 21,
   "metadata": {
    "collapsed": false
   },
   "outputs": [
    {
     "data": {
      "text/html": [
       "<h1>Debug:<b>json</b>:</h1> ≤class 'collections.OrderedDict'≥)</1>\n",
       "<table><tr><th>Key                                               </th><th>Value                         </th></tr><tr><td>Short Name                                        </td><td>'902-1TR-701'                 </td></tr><tr><td>excel.notes.distance                              </td><td>None                          </td></tr><tr><td>excel.notes.failue                                </td><td>None                          </td></tr><tr><td>excel.notes.location                              </td><td>None                          </td></tr><tr><td>excel.notes.notes                                 </td><td>None                          </td></tr><tr><td>excel.other.est_precond                           </td><td>0.58832                       </td></tr><tr><td>excel.other.est_rate                              </td><td>0.14708                       </td></tr><tr><td>excel.other.max_force                             </td><td>'-'                           </td></tr><tr><td>excel.other.precond_amp                           </td><td>0.29416                       </td></tr><tr><td>excel.other.precond_amt                           </td><td>0.08                          </td></tr><tr><td>excel.other.stress_uts                            </td><td>'#VALUE!'                     </td></tr><tr><td>excel.other.target_gauge                          </td><td>7                             </td></tr><tr><td>excel.other.target_position                       </td><td>None                          </td></tr><tr><td>gauge.base                                        </td><td>-8.2                          </td></tr><tr><td>gauge.init_position                               </td><td>-0.846                        </td></tr><tr><td>gauge.units                                       </td><td>'mm'                          </td></tr><tr><td>gauge.value                                       </td><td>7.353999999999999             </td></tr><tr><td>graphs.modulus.data.linear_modulus                </td><td>20.60285624147392             </td></tr><tr><td>graphs.modulus.data.strain_linear.intercept       </td><td>-3.2711740525642607           </td></tr><tr><td>graphs.modulus.data.strain_linear.slope           </td><td>0.16333591122990795           </td></tr><tr><td>graphs.modulus.data.stress_linear.intercept       </td><td>-68.04081455831898            </td></tr><tr><td>graphs.modulus.data.stress_linear.slope           </td><td>3.365186298139939             </td></tr><tr><td>graphs.modulus.data_json.slope_strain             </td><td>0.16333591122990795           </td></tr><tr><td>graphs.modulus.data_json.slope_stress             </td><td>3.365186298139939             </td></tr><tr><td>graphs.modulus.data_json.value                    </td><td>20.60285624147392             </td></tr><tr><td>graphs.modulus.sl                                 </td><td>[1985, 2002, None]            </td></tr><tr><td>id                                                </td><td>'902-1TR-701'                 </td></tr><tr><td>info.date                                         </td><td>'nov24'                       </td></tr><tr><td>info.layer                                        </td><td>'7'                           </td></tr><tr><td>info.name                                         </td><td>'nov24(gf9.2-llm)-wa-tr-l7-x1'</td></tr><tr><td>info.orientation                                  </td><td>'tr'                          </td></tr><tr><td>info.run                                          </td><td>None                          </td></tr><tr><td>info.sample                                       </td><td>'1'                           </td></tr><tr><td>info.set                                          </td><td>'gf9.2'                       </td></tr><tr><td>info.side                                         </td><td>'llm'                         </td></tr><tr><td>info.wedge                                        </td><td>'a'                           </td></tr><tr><td>measurements.area.units                           </td><td>'mm^2'                        </td></tr><tr><td>measurements.area.value                           </td><td>0.5461594721934022            </td></tr><tr><td>measurements.depth.stdev                          </td><td>0.05093665975484806           </td></tr><tr><td>measurements.depth.units                          </td><td>'mm'                          </td></tr><tr><td>measurements.depth.value                          </td><td>0.9986357359858519            </td></tr><tr><td>measurements.width.stdev                          </td><td>0.03512562034371174           </td></tr><tr><td>measurements.width.units                          </td><td>'mm'                          </td></tr><tr><td>measurements.width.value                          </td><td>0.5469055958169114            </td></tr><tr><td>name                                              </td><td>'nov24(gf9.2-llm)-wa-tr-l7-x1'</td></tr><tr><td>variables.precond.tracking.norm.pre.load_balance  </td><td>0.07291245316578583           </td></tr><tr><td>variables.preload.tracking.norm.post.preload_std  </td><td>0.002403926137565402          </td></tr><tr><td>variables.preload.tracking.norm.post.preload_value</td><td>0.08771140562991302           </td></tr><tr><td>variables.uts.tracking.norm.post.disp_max_value   </td><td>2.23695690553498              </td></tr><tr><td>variables.uts.tracking.norm.post.load_max.idx     </td><td>1449                          </td></tr><tr><td>variables.uts.tracking.norm.post.load_max.value   </td><td>3.34656149256759              </td></tr><tr><td>variables.uts.tracking.norm.post.strain_max_value </td><td>0.30418233689624424           </td></tr><tr><td>variables.uts.tracking.norm.post.stress_max.idx   </td><td>1449                          </td></tr><tr><td>variables.uts.tracking.norm.post.stress_max.value </td><td>6.176475561964977             </td></tr><tr><td>variables.uts.tracking.norm.pre.load_balance      </td><td>0.05900561701722012           </td></tr></table>"
      ],
      "text/plain": [
       "<IPython.core.display.HTML object>"
      ]
     },
     "metadata": {},
     "output_type": "display_data"
    }
   ],
   "source": [
    "def makeRows(test):\n",
    "    row = OrderedDict()\n",
    "    row['Short Name'] = '{}'.format(test.info.short)\n",
    "    \n",
    "#     for k,v in test.info.as_dict().items():\n",
    "#         row[k] = v\n",
    "    \n",
    "    for name, data in test.data.items():\n",
    "        for k,v in flatten(data,sep='.').items():\n",
    "            row[k] = v\n",
    "    \n",
    "    return row\n",
    "\n",
    "rows = [ makeRows(test) for test in testitems.values() if test ]\n",
    "\n",
    "# find headers\n",
    "headers = OrderedDict()\n",
    "for row in rows:\n",
    "    for k,v in row.items():\n",
    "        headers[k] = None\n",
    "\n",
    "headers = sorted(headers.keys())\n",
    "display(HTML(debugger_summary(\"json\", rows[0])))\n",
    "# print(*headers,sep='\\n')\n",
    "# print(json.dumps(rows[0],indent=4))"
   ]
  },
  {
   "cell_type": "code",
   "execution_count": null,
   "metadata": {
    "collapsed": false
   },
   "outputs": [],
   "source": [
    "name = OrderedDict()\n",
    "name[\"Short Name\"] = \"Short Name\"\n",
    "name[\"variables.preload.tracking.norm.post.preload_value\"] = \"Preload Value\"\n",
    "name[\"variables.preload.tracking.norm.post.preload_std\"] = \"Preload Std\"\n",
    "name[\"variables.uts.tracking.norm.post.disp_max_value\"] = \"displacement.value\"\n",
    "name[\"variables.uts.tracking.norm.post.load_max.value\"] = \"load.value\"\n",
    "name[\"variables.uts.tracking.norm.post.strain_max_value\"] = \"Strain+\"\n",
    "name[\"variables.uts.tracking.norm.post.stress_max.value\"] = \"Stress+\"\n",
    "name[\"variables.uts.tracking.norm.pre.load_balance\"] = \"load.offset\"\n",
    "name[\"measurements.area.units\"] = \"area.units\"\n",
    "name[\"measurements.area.value\"] = \"area.value\"\n",
    "name[\"measurements.depth.stdev\"] = \"depth.stdev\"\n",
    "name[\"measurements.depth.value\"] = \"depth.value\"\n",
    "name[\"measurements.width.stdev\"] = \"width.stdev\"\n",
    "name[\"measurements.width.value\"] = \"width.value\"\n",
    "name[\"gauge.base\"] = \"gauge.base\"\n",
    "name[\"gauge.preloaded\"] = \"gauge.preloaded\"\n",
    "name[\"gauge.value\"] = \"gauge.value\"\n",
    "\n",
    "name[\"info.sample\"] = \"info.sample\"\n",
    "name[\"info.layer\"] = \"info.layer\"\n",
    "name[\"info.orientation\"] = \"info.orientation\"\n",
    "name[\"info.wedge\"] = \"info.wedge\"\n",
    "name[\"info.side\"] = \"info.side\"\n",
    "name[\"info.set\"] = \"info.set\"\n",
    "name[\"info.date\"] = \"info.date\"\n",
    "name[\"info.run\"] = \"info.run\"\n",
    "name[\"info.name\"] = \"info.name\"\n",
    "\n",
    "for k,v in name.items():\n",
    "    v = v.replace('.value','').split('.')\n",
    "    name[k] = ' '.join( [ s[0].upper()+s[1:] for s in v ] )\n",
    "\n",
    "print(*name.values(),sep='\\n')\n",
    "# make table\n",
    "\n",
    "def makeTable(rows):\n",
    "    table = MarkdownTable() \n",
    "\n",
    "    for row in rows:\n",
    "        try:\n",
    "            table.add_row( [ row.get(k,None) for k in name ] )\n",
    "        except KeyError as err:\n",
    "            missingTable.add_row( [ row.get(k,'') for k in name ] )\n",
    "\n",
    "    return table\n",
    "\n",
    "print([ r['info.orientation'] for r in rows ])\n",
    "\n",
    "tableAll = makeTable(rows)\n",
    "\n",
    "tableTr = makeTable([r for r in rows if r['info.orientation'] == 'tr'])\n",
    "tableLg = makeTable([r for r in rows if r['info.orientation'] == 'lg'])\n",
    "\n",
    "with open(str(fs.results/'UTS Test Summaries.v7.md'),'w') as report:\n",
    "    report.write(mdHeader(1,'Test Summaries'))\n",
    "\n",
    "    report.write(mdHeader(2,'Transverse'))\n",
    "    tableStrs = generateTable(tableTr, headers=name.values(),tablefmt='simple')\n",
    "    report.write(tableStrs)\n",
    "    \n",
    "    report.write(mdHeader(2,'Longitudinal'))\n",
    "    tableStrs = generateTable(tableLg, headers=name.values(),tablefmt='simple')\n",
    "    report.write(tableStrs)\n",
    "    \n",
    "    report.write(\"\\n\\n\")"
   ]
  },
  {
   "cell_type": "code",
   "execution_count": null,
   "metadata": {
    "collapsed": false
   },
   "outputs": [],
   "source": [
    "import pandas as pd"
   ]
  },
  {
   "cell_type": "code",
   "execution_count": null,
   "metadata": {
    "collapsed": false,
    "scrolled": false
   },
   "outputs": [],
   "source": [
    "data = pd.DataFrame(tableAll.data, columns=name.values())\n",
    "data.index = data[\"Short Name\"]\n"
   ]
  },
  {
   "cell_type": "code",
   "execution_count": null,
   "metadata": {
    "collapsed": false,
    "scrolled": true
   },
   "outputs": [],
   "source": [
    "display(HTML(data[data['Info Orientation'] == 'lg'].to_html()))\n"
   ]
  },
  {
   "cell_type": "code",
   "execution_count": null,
   "metadata": {
    "collapsed": false
   },
   "outputs": [],
   "source": [
    "with open(str(fs.results/'UTS Test Details.v8.csv'),'w') as report:\n",
    "    data.to_csv(report)\n",
    "    "
   ]
  },
  {
   "cell_type": "code",
   "execution_count": null,
   "metadata": {
    "collapsed": false
   },
   "outputs": [],
   "source": [
    "data.to_clipboard()"
   ]
  },
  {
   "cell_type": "code",
   "execution_count": null,
   "metadata": {
    "collapsed": true
   },
   "outputs": [],
   "source": []
  }
 ],
 "metadata": {
  "kernelspec": {
   "display_name": "Python 3",
   "language": "python",
   "name": "python3"
  },
  "language_info": {
   "codemirror_mode": {
    "name": "ipython",
    "version": 3
   },
   "file_extension": ".py",
   "mimetype": "text/x-python",
   "name": "python",
   "nbconvert_exporter": "python",
   "pygments_lexer": "ipython3",
   "version": "3.4.3"
  }
 },
 "nbformat": 4,
 "nbformat_minor": 0
}
